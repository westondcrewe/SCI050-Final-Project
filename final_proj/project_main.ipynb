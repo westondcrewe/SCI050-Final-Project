{
 "cells": [
  {
   "cell_type": "code",
   "execution_count": 9,
   "metadata": {},
   "outputs": [],
   "source": [
    "# functions.py contains all of the needed libraries, functions, and methods for these cells to run\n",
    "from importlib import reload\n",
    "import functions\n",
    "reload(functions)\n",
    "from functions import *"
   ]
  },
  {
   "cell_type": "code",
   "execution_count": 2,
   "metadata": {},
   "outputs": [],
   "source": [
    "# PLAY AUDIO\n",
    "audio_filename = 'project_drums.wav'"
   ]
  },
  {
   "cell_type": "code",
   "execution_count": 3,
   "metadata": {},
   "outputs": [],
   "source": [
    "# GET BYTES FROM SAMPLES IN AUDIO FILE\n",
    "#readwav(audio_filename)"
   ]
  },
  {
   "cell_type": "code",
   "execution_count": null,
   "metadata": {},
   "outputs": [],
   "source": [
    "# GET SAMPLES AS INTS\n",
    "samples = [int(x) for x in readwav(audio_filename)[0]]"
   ]
  },
  {
   "cell_type": "code",
   "execution_count": null,
   "metadata": {},
   "outputs": [],
   "source": [
    "# GET SAMPLE DATA IN BINARY (2 BYTES / SAMPLE)\n",
    "message = sampleToMessage(samples) # this will give us the message we want to embed in the image using steganography\n",
    "print(message[:20])"
   ]
  },
  {
   "cell_type": "code",
   "execution_count": null,
   "metadata": {},
   "outputs": [],
   "source": [
    "# STEGANOGRAPHIZE AN AUDIO FILE INTO AN IMAGE FILE\n",
    "image_filename = \"project_image.JPG\"   # the image to embed the message in\n",
    "#song_filename = 'project.wav'          # the audio to be embedded\n",
    "samples = [int(x) for x in readwav(audio_filename)[0]]   # audio data\n",
    "image_rgb = getRGB(image_filename)      # get image at pixel level\n",
    "binarySamples = sampleToMessage(samples)\n",
    "image_new = steganographize(image_rgb, binarySamples)     # \"hide\" the message (audio file)\n",
    "saveRGB(image_new, 'project_image_with_message.png')"
   ]
  },
  {
   "cell_type": "code",
   "execution_count": null,
   "metadata": {},
   "outputs": [],
   "source": [
    "# GET AUDIO OUT OF IMAGE\n",
    "filename = 'project_image_with_message.png'\n",
    "image_rgb = getRGB(filename)\n",
    "binaryMessageOut = desteganographize(image_rgb)\n",
    "binaryMessageOut"
   ]
  },
  {
   "cell_type": "code",
   "execution_count": 12,
   "metadata": {},
   "outputs": [],
   "source": [
    "##### PUT BINARY MESSAGE INTO AUDIO DATA #####\n",
    "sampleOut = messageToSample(binaryMessageOut)"
   ]
  },
  {
   "cell_type": "code",
   "execution_count": null,
   "metadata": {},
   "outputs": [],
   "source": [
    "##### PUT AUDIO DATA INTO WAV FILE #####\n",
    "framerate = 22050*2\n",
    "sound_data = [sampleOut , framerate]\n",
    "write_wav(sound_data, filename='test_out.wav')"
   ]
  },
  {
   "cell_type": "code",
   "execution_count": 16,
   "metadata": {},
   "outputs": [],
   "source": [
    "play('test_out.wav')"
   ]
  }
 ],
 "metadata": {
  "kernelspec": {
   "display_name": "Python 3",
   "language": "python",
   "name": "python3"
  },
  "language_info": {
   "codemirror_mode": {
    "name": "ipython",
    "version": 3
   },
   "file_extension": ".py",
   "mimetype": "text/x-python",
   "name": "python",
   "nbconvert_exporter": "python",
   "pygments_lexer": "ipython3",
   "version": "3.12.0"
  }
 },
 "nbformat": 4,
 "nbformat_minor": 2
}
