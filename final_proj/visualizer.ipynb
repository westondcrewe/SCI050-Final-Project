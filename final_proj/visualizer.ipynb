{
 "cells": [
  {
   "cell_type": "markdown",
   "metadata": {},
   "source": [
    "## Song (/Audio File) Visualizer\n",
    "#### as a portion of the SCI050L Visual-Audio Encryption Machine Final Project\n",
    "Sources:<br>\n",
    "[Medium](https://medium.com/analytics-vidhya/how-to-create-a-music-visualizer-7fad401f5a69)<br>\n",
    "[GitLab](https://gitlab.com/avirzayev/medium-audio-visualizer-code/-/blob/master/main.py)"
   ]
  },
  {
   "cell_type": "code",
   "execution_count": null,
   "metadata": {},
   "outputs": [],
   "source": [
    "# Installations\n",
    "#! pip install pypi-install\n",
    "#! pip install librosa\n",
    "#! pip install --upgrade setuptools\n",
    "#! brew install gstreamer\n",
    "#! python3 -m pip install -U pygame --user"
   ]
  },
  {
   "cell_type": "code",
   "execution_count": 1,
   "metadata": {},
   "outputs": [
    {
     "name": "stdout",
     "output_type": "stream",
     "text": [
      "pygame 2.5.2 (SDL 2.28.3, Python 3.12.0)\n",
      "Hello from the pygame community. https://www.pygame.org/contribute.html\n"
     ]
    }
   ],
   "source": [
    "# Imports\n",
    "import librosa\n",
    "import numpy as np\n",
    "import matplotlib.pyplot as plt\n",
    "import pygame\n",
    "#librosa.show_versions()"
   ]
  },
  {
   "cell_type": "code",
   "execution_count": 8,
   "metadata": {},
   "outputs": [],
   "source": [
    "def clamp(min_value, max_value, value):\n",
    "\n",
    "    if value < min_value:\n",
    "        return min_value\n",
    "\n",
    "    if value > max_value:\n",
    "        return max_value\n",
    "\n",
    "    return value"
   ]
  },
  {
   "cell_type": "code",
   "execution_count": 9,
   "metadata": {},
   "outputs": [],
   "source": [
    "class AudioBar:\n",
    "\n",
    "    def __init__(self, x, y, freq, color, width=50, min_height=10, max_height=100, min_decibel=-80, max_decibel=0):\n",
    "\n",
    "        self.x, self.y, self.freq = x, y, freq\n",
    "\n",
    "        self.color = color\n",
    "\n",
    "        self.width, self.min_height, self.max_height = width, min_height, max_height\n",
    "\n",
    "        self.height = min_height\n",
    "\n",
    "        self.min_decibel, self.max_decibel = min_decibel, max_decibel\n",
    "\n",
    "        self.__decibel_height_ratio = (self.max_height - self.min_height)/(self.max_decibel - self.min_decibel)\n",
    "\n",
    "    def update(self, dt, decibel):\n",
    "\n",
    "        desired_height = decibel * self.__decibel_height_ratio + self.max_height\n",
    "\n",
    "        speed = (desired_height - self.height)/0.1\n",
    "\n",
    "        self.height += speed * dt\n",
    "\n",
    "        self.height = clamp(self.min_height, self.max_height, self.height)\n",
    "\n",
    "    def render(self, screen):\n",
    "\n",
    "        pygame.draw.rect(screen, self.color, (self.x, self.y + self.max_height - self.height, self.width, self.height))\n"
   ]
  },
  {
   "cell_type": "code",
   "execution_count": 10,
   "metadata": {},
   "outputs": [],
   "source": [
    "filename = 'Satisfaction.mp3'\n",
    "# getting information from the file\n",
    "time_series, sample_rate = librosa.load(filename)\n",
    "# getting a matrix which contains amplitude values according to frequency and time indexes\n",
    "stft = np.abs(librosa.stft(time_series, hop_length=512, n_fft=2048*4))\n",
    "spectrogram = librosa.amplitude_to_db(stft, ref=np.max)  # converting the matrix to decibel matrix\n",
    "frequencies = librosa.core.fft_frequencies(n_fft=2048*4)  # getting an array of frequencies\n",
    "\n",
    "# getting an array of time periodic\n",
    "times = librosa.core.frames_to_time(np.arange(spectrogram.shape[1]), sr=sample_rate, hop_length=512, n_fft=2048*4)\n",
    "time_index_ratio = len(times)/times[len(times) - 1]\n",
    "frequencies_index_ratio = len(frequencies)/frequencies[len(frequencies)-1]"
   ]
  },
  {
   "cell_type": "code",
   "execution_count": 11,
   "metadata": {},
   "outputs": [],
   "source": [
    "def get_decibel(target_time, freq):\n",
    "    return spectrogram[int(freq * frequencies_index_ratio)][int(target_time * time_index_ratio)]"
   ]
  },
  {
   "cell_type": "code",
   "execution_count": 12,
   "metadata": {},
   "outputs": [
    {
     "ename": "KeyboardInterrupt",
     "evalue": "",
     "output_type": "error",
     "traceback": [
      "\u001b[0;31m---------------------------------------------------------------------------\u001b[0m",
      "\u001b[0;31mKeyboardInterrupt\u001b[0m                         Traceback (most recent call last)",
      "Cell \u001b[0;32mIn[12], line 47\u001b[0m\n\u001b[1;32m     44\u001b[0m         b\u001b[38;5;241m.\u001b[39mrender(screen)\n\u001b[1;32m     46\u001b[0m     \u001b[38;5;66;03m# Flip the display\u001b[39;00m\n\u001b[0;32m---> 47\u001b[0m     \u001b[43mpygame\u001b[49m\u001b[38;5;241;43m.\u001b[39;49m\u001b[43mdisplay\u001b[49m\u001b[38;5;241;43m.\u001b[39;49m\u001b[43mflip\u001b[49m\u001b[43m(\u001b[49m\u001b[43m)\u001b[49m\n\u001b[1;32m     49\u001b[0m \u001b[38;5;66;03m# Done! Time to quit.\u001b[39;00m\n\u001b[1;32m     50\u001b[0m pygame\u001b[38;5;241m.\u001b[39mquit()\n",
      "\u001b[0;31mKeyboardInterrupt\u001b[0m: "
     ]
    },
    {
     "ename": "",
     "evalue": "",
     "output_type": "error",
     "traceback": [
      "\u001b[1;31mThe Kernel crashed while executing code in the current cell or a previous cell. \n",
      "\u001b[1;31mPlease review the code in the cell(s) to identify a possible cause of the failure. \n",
      "\u001b[1;31mClick <a href='https://aka.ms/vscodeJupyterKernelCrash'>here</a> for more info. \n",
      "\u001b[1;31mView Jupyter <a href='command:jupyter.viewOutput'>log</a> for further details."
     ]
    }
   ],
   "source": [
    "pygame.init()\n",
    "\n",
    "infoObject = pygame.display.Info()\n",
    "\n",
    "screen_w = int(infoObject.current_w/2.5)\n",
    "screen_h = int(infoObject.current_w/2.5)\n",
    "\n",
    "# Set up the drawing window\n",
    "screen = pygame.display.set_mode([screen_w, screen_h])\n",
    "\n",
    "bars = []\n",
    "frequencies = np.arange(100, 8000, 100)\n",
    "r = len(frequencies)\n",
    "width = screen_w/r\n",
    "x = (screen_w - width*r)/2\n",
    "for c in frequencies:\n",
    "    bars.append(AudioBar(x, 300, c, (90, 235, 160), max_height=400, width=width))\n",
    "    x += width\n",
    "\n",
    "t = pygame.time.get_ticks()\n",
    "getTicksLastFrame = t\n",
    "\n",
    "pygame.mixer.music.load(filename)\n",
    "pygame.mixer.music.play(0)\n",
    "\n",
    "# Run until the user asks to quit\n",
    "running = True\n",
    "while running:\n",
    "\n",
    "    t = pygame.time.get_ticks()\n",
    "    deltaTime = (t - getTicksLastFrame) / 1000.0\n",
    "    getTicksLastFrame = t\n",
    "\n",
    "    # Did the user click the window close button?\n",
    "    for event in pygame.event.get():\n",
    "        if event.type == pygame.QUIT:\n",
    "            running = False\n",
    "\n",
    "    # Fill the background with white\n",
    "    screen.fill((255, 255, 255))\n",
    "\n",
    "    for b in bars:\n",
    "        b.update(deltaTime, get_decibel(pygame.mixer.music.get_pos()/1000.0, b.freq))\n",
    "        b.render(screen)\n",
    "\n",
    "    # Flip the display\n",
    "    pygame.display.flip()\n",
    "\n",
    "# Done! Time to quit.\n",
    "pygame.quit()"
   ]
  }
 ],
 "metadata": {
  "kernelspec": {
   "display_name": "Python 3",
   "language": "python",
   "name": "python3"
  },
  "language_info": {
   "codemirror_mode": {
    "name": "ipython",
    "version": 3
   },
   "file_extension": ".py",
   "mimetype": "text/x-python",
   "name": "python",
   "nbconvert_exporter": "python",
   "pygments_lexer": "ipython3",
   "version": "3.12.0"
  }
 },
 "nbformat": 4,
 "nbformat_minor": 2
}
